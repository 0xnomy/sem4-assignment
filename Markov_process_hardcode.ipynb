{
  "nbformat": 4,
  "nbformat_minor": 0,
  "metadata": {
    "colab": {
      "provenance": []
    },
    "kernelspec": {
      "name": "python3",
      "display_name": "Python 3"
    },
    "language_info": {
      "name": "python"
    }
  },
  "cells": [
    {
      "cell_type": "code",
      "execution_count": null,
      "metadata": {
        "colab": {
          "base_uri": "https://localhost:8080/"
        },
        "id": "Q77tGS-qdaJe",
        "outputId": "1ada36d3-9810-4c13-e02a-90e48ed5033b"
      },
      "outputs": [
        {
          "output_type": "stream",
          "name": "stdout",
          "text": [
            "Predicted Weather Sequence:\n",
            "['Sunny', 'Snowy', 'Cloudy', 'Cloudy', 'Foggy', 'Snowy', 'Cloudy', 'Cloudy', 'Cloudy', 'Snowy', 'Sunny']\n"
          ]
        }
      ],
      "source": [
        "import numpy as np\n",
        "states = ['Sunny', 'Cloudy', 'Rainy', 'Snowy', 'Foggy']\n",
        "\n",
        "transition_matrix = np.array([\n",
        "    [0.5, 0.2, 0.1, 0.1, 0.1],  # Transition probabilities from Sunny\n",
        "    [0.3, 0.4, 0.2, 0.05, 0.05], # Transition probabilities from Cloudy\n",
        "    [0.2, 0.3, 0.4, 0.05, 0.05], # Transition probabilities from Rainy\n",
        "    [0.1, 0.2, 0.2, 0.4, 0.1],   # Transition probabilities from Snowy\n",
        "    [0.1, 0.1, 0.2, 0.2, 0.4]    # Transition probabilities from Foggy\n",
        "])\n",
        "\n",
        "# Define a function to predict the next weather condition\n",
        "def predict_weather(current_weather, days):\n",
        "    current_state_index = states.index(current_weather)\n",
        "    weather_sequence = [current_state_index]\n",
        "\n",
        "    for _ in range(days):\n",
        "        next_state_index = np.random.choice(len(states), p=transition_matrix[current_state_index])\n",
        "        weather_sequence.append(next_state_index)\n",
        "        current_state_index = next_state_index\n",
        "\n",
        "    predicted_weather = [states[i] for i in weather_sequence]\n",
        "    return predicted_weather\n",
        "\n",
        "current_weather = 'Sunny'\n",
        "days_to_predict = 10\n",
        "predicted_weather_sequence = predict_weather(current_weather, days_to_predict)\n",
        "print(\"Predicted Weather Sequence:\")\n",
        "print(predicted_weather_sequence)\n"
      ]
    }
  ]
}